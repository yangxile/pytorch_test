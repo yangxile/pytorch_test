{
 "cells": [
  {
   "cell_type": "code",
   "execution_count": 1,
   "id": "cefdaba2-c370-4e6c-9587-def10ba8ba9b",
   "metadata": {},
   "outputs": [],
   "source": [
    "from safetensors import safe_open\n"
   ]
  },
  {
   "cell_type": "code",
   "execution_count": 4,
   "id": "ec0ea109-3fb5-4c3d-8447-fd7dbe345b84",
   "metadata": {},
   "outputs": [
    {
     "ename": "SafetensorError",
     "evalue": "File does not contain tensor embedding",
     "output_type": "error",
     "traceback": [
      "\u001b[0;31m---------------------------------------------------------------------------\u001b[0m",
      "\u001b[0;31mSafetensorError\u001b[0m                           Traceback (most recent call last)",
      "Cell \u001b[0;32mIn[4], line 4\u001b[0m\n\u001b[1;32m      1\u001b[0m model_path \u001b[38;5;241m=\u001b[39m \u001b[38;5;124m\"\u001b[39m\u001b[38;5;124m/Users/wilyan01/OneDrive - Arm/ARM/ChinaPdM/ML-AI/models/Qwen2-1.5B-model.safetensors\u001b[39m\u001b[38;5;124m\"\u001b[39m\n\u001b[1;32m      2\u001b[0m \u001b[38;5;28;01mwith\u001b[39;00m safe_open(model_path, framework\u001b[38;5;241m=\u001b[39m\u001b[38;5;124m\"\u001b[39m\u001b[38;5;124mpt\u001b[39m\u001b[38;5;124m\"\u001b[39m, device\u001b[38;5;241m=\u001b[39m\u001b[38;5;124m'\u001b[39m\u001b[38;5;124mcpu\u001b[39m\u001b[38;5;124m'\u001b[39m) \u001b[38;5;28;01mas\u001b[39;00m f:\n\u001b[1;32m      3\u001b[0m     \u001b[38;5;66;03m# 获取embedding张量的切片\u001b[39;00m\n\u001b[0;32m----> 4\u001b[0m     embedding_slice \u001b[38;5;241m=\u001b[39m \u001b[43mf\u001b[49m\u001b[38;5;241;43m.\u001b[39;49m\u001b[43mget_slice\u001b[49m\u001b[43m(\u001b[49m\u001b[38;5;124;43m\"\u001b[39;49m\u001b[38;5;124;43membedding\u001b[39;49m\u001b[38;5;124;43m\"\u001b[39;49m\u001b[43m)\u001b[49m\n\u001b[1;32m      5\u001b[0m     \u001b[38;5;66;03m# 获取维度信息\u001b[39;00m\n\u001b[1;32m      6\u001b[0m     vocab_size, embedding_dim \u001b[38;5;241m=\u001b[39m embedding_slice\u001b[38;5;241m.\u001b[39mget_shape()\n",
      "\u001b[0;31mSafetensorError\u001b[0m: File does not contain tensor embedding"
     ]
    }
   ],
   "source": [
    "model_path = \"/Users/wilyan01/OneDrive - Arm/ARM/ChinaPdM/ML-AI/models/Qwen2-1.5B-model.safetensors\"\n",
    "with safe_open(model_path, framework=\"pt\", device='cpu') as f:\n",
    "    # 获取embedding张量的切片\n",
    "    embedding_slice = f.get_slice(\"embedding\")\n",
    "    # 获取维度信息\n",
    "    vocab_size, embedding_dim = embedding_slice.get_shape()\n",
    "    print(f\"Vocabulary size: {vocab_size}, Embedding dimension: {embedding_dim}\")"
   ]
  },
  {
   "cell_type": "code",
   "execution_count": null,
   "id": "6437bf3a-07cc-4141-816d-924df30cebd5",
   "metadata": {},
   "outputs": [],
   "source": []
  }
 ],
 "metadata": {
  "kernelspec": {
   "display_name": "Python 3 (ipykernel)",
   "language": "python",
   "name": "python3"
  },
  "language_info": {
   "codemirror_mode": {
    "name": "ipython",
    "version": 3
   },
   "file_extension": ".py",
   "mimetype": "text/x-python",
   "name": "python",
   "nbconvert_exporter": "python",
   "pygments_lexer": "ipython3",
   "version": "3.9.6"
  }
 },
 "nbformat": 4,
 "nbformat_minor": 5
}
