{
 "cells": [
  {
   "cell_type": "code",
   "execution_count": 1,
   "id": "d08adb03-377b-4d07-8934-4f8041de9a11",
   "metadata": {},
   "outputs": [],
   "source": [
    "from jinja2 import Template\n"
   ]
  },
  {
   "cell_type": "code",
   "execution_count": 2,
   "id": "acb119f6-c6f3-44c7-bcc5-c488c85c0ae6",
   "metadata": {},
   "outputs": [
    {
     "name": "stdout",
     "output_type": "stream",
     "text": [
      "Python解释器的版本是： 3.9.6 (default, Aug 11 2023, 19:44:49) \n",
      "[Clang 15.0.0 (clang-1500.0.40.1)]\n"
     ]
    }
   ],
   "source": [
    "import sys\n",
    "\n",
    "print(\"Python解释器的版本是：\", sys.version)"
   ]
  },
  {
   "cell_type": "code",
   "execution_count": 3,
   "id": "4bc6e538-459f-4dfc-9af3-8c7f06fd54bd",
   "metadata": {},
   "outputs": [
    {
     "name": "stdout",
     "output_type": "stream",
     "text": [
      "Python解释器的路径是： /Library/Developer/CommandLineTools/usr/bin/python3\n"
     ]
    }
   ],
   "source": [
    "import sys\n",
    "\n",
    "print(\"Python解释器的路径是：\", sys.executable)"
   ]
  },
  {
   "cell_type": "code",
   "execution_count": 4,
   "id": "02c1321a-21ef-4bf2-aa94-de45c2d6bf1e",
   "metadata": {},
   "outputs": [
    {
     "name": "stdout",
     "output_type": "stream",
     "text": [
      "Defaulting to user installation because normal site-packages is not writeable\n",
      "\u001b[31mERROR: Could not find a version that satisfies the requirement dashinfer (from versions: none)\u001b[0m\u001b[31m\n",
      "\u001b[0m\u001b[31mERROR: No matching distribution found for dashinfer\u001b[0m\u001b[31m\n",
      "\u001b[0mNote: you may need to restart the kernel to use updated packages.\n"
     ]
    }
   ],
   "source": [
    "pip install dashinfer"
   ]
  },
  {
   "cell_type": "code",
   "execution_count": null,
   "id": "c750f50a-bcad-44f0-86dd-1fd628a21bb8",
   "metadata": {},
   "outputs": [],
   "source": []
  }
 ],
 "metadata": {
  "kernelspec": {
   "display_name": "Python 3 (ipykernel)",
   "language": "python",
   "name": "python3"
  },
  "language_info": {
   "codemirror_mode": {
    "name": "ipython",
    "version": 3
   },
   "file_extension": ".py",
   "mimetype": "text/x-python",
   "name": "python",
   "nbconvert_exporter": "python",
   "pygments_lexer": "ipython3",
   "version": "3.9.6"
  }
 },
 "nbformat": 4,
 "nbformat_minor": 5
}
